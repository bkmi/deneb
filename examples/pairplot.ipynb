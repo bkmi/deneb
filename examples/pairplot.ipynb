{
 "cells": [
  {
   "cell_type": "code",
   "execution_count": 3,
   "metadata": {},
   "outputs": [
    {
     "data": {
      "text/html": [
       "<link rel='stylesheet' href='https://fonts.googleapis.com/css?family=Inter'>"
      ],
      "text/plain": [
       "<IPython.core.display.HTML object>"
      ]
     },
     "metadata": {},
     "output_type": "display_data"
    },
    {
     "data": {
      "text/html": [
       "\n",
       "<div id=\"altair-viz-93d4c880d3954452ac50a6b4a30725ad\"></div>\n",
       "<script type=\"text/javascript\">\n",
       "  (function(spec, embedOpt){\n",
       "    let outputDiv = document.currentScript.previousElementSibling;\n",
       "    if (outputDiv.id !== \"altair-viz-93d4c880d3954452ac50a6b4a30725ad\") {\n",
       "      outputDiv = document.getElementById(\"altair-viz-93d4c880d3954452ac50a6b4a30725ad\");\n",
       "    }\n",
       "    const paths = {\n",
       "      \"vega\": \"https://cdn.jsdelivr.net/npm//vega@5?noext\",\n",
       "      \"vega-lib\": \"https://cdn.jsdelivr.net/npm//vega-lib?noext\",\n",
       "      \"vega-lite\": \"https://cdn.jsdelivr.net/npm//vega-lite@4.8.1?noext\",\n",
       "      \"vega-embed\": \"https://cdn.jsdelivr.net/npm//vega-embed@6?noext\",\n",
       "    };\n",
       "\n",
       "    function loadScript(lib) {\n",
       "      return new Promise(function(resolve, reject) {\n",
       "        var s = document.createElement('script');\n",
       "        s.src = paths[lib];\n",
       "        s.async = true;\n",
       "        s.onload = () => resolve(paths[lib]);\n",
       "        s.onerror = () => reject(`Error loading script: ${paths[lib]}`);\n",
       "        document.getElementsByTagName(\"head\")[0].appendChild(s);\n",
       "      });\n",
       "    }\n",
       "\n",
       "    function showError(err) {\n",
       "      outputDiv.innerHTML = `<div class=\"error\" style=\"color:red;\">${err}</div>`;\n",
       "      throw err;\n",
       "    }\n",
       "\n",
       "    function displayChart(vegaEmbed) {\n",
       "      vegaEmbed(outputDiv, spec, embedOpt)\n",
       "        .catch(err => showError(`Javascript Error: ${err.message}<br>This usually means there's a typo in your chart specification. See the javascript console for the full traceback.`));\n",
       "    }\n",
       "\n",
       "    if(typeof define === \"function\" && define.amd) {\n",
       "      requirejs.config({paths});\n",
       "      require([\"vega-embed\"], displayChart, err => showError(`Error loading script: ${err.message}`));\n",
       "    } else if (typeof vegaEmbed === \"function\") {\n",
       "      displayChart(vegaEmbed);\n",
       "    } else {\n",
       "      loadScript(\"vega\")\n",
       "        .then(() => loadScript(\"vega-lite\"))\n",
       "        .then(() => loadScript(\"vega-embed\"))\n",
       "        .catch(showError)\n",
       "        .then(() => displayChart(vegaEmbed));\n",
       "    }\n",
       "  })({\"config\": {\"view\": {\"strokeWidth\": 0, \"continuousHeight\": 100, \"discreteHeight\": 100, \"continuousWidth\": 100, \"discreteWidth\": 100}, \"title\": {\"font\": \"Inter\", \"titleFontSize\": 14}, \"axis\": {\"labelFont\": \"Inter\", \"titleFont\": \"Inter\", \"labelFontSize\": 14, \"titleFontSize\": 14, \"labelFontWeight\": \"normal\", \"titleFontWeight\": \"normal\", \"grid\": false}, \"header\": {\"labelFont\": \"Inter\", \"titleFont\": \"Inter\", \"labelFontSize\": 14, \"titleFontSize\": 14, \"labelFontWeight\": \"normal\", \"titleFontWeight\": \"normal\"}, \"legend\": {\"labelFont\": \"Inter\", \"titleFont\": \"Inter\", \"labelFontSize\": 14, \"titleFontSize\": 14, \"labelFontWeight\": \"normal\", \"titleFontWeight\": \"normal\"}}, \"vconcat\": [{\"hconcat\": [{\"mark\": {\"type\": \"bar\", \"clip\": true, \"opacity\": 0.5}, \"encoding\": {\"color\": {\"type\": \"nominal\", \"field\": \"species\", \"legend\": null}, \"x\": {\"type\": \"quantitative\", \"axis\": {\"domainWidth\": 0, \"labels\": false, \"tickWidth\": 0, \"title\": \"\"}, \"bin\": {\"maxbins\": 20}, \"field\": \"sepalLength\"}, \"y\": {\"type\": \"quantitative\", \"aggregate\": \"count\", \"axis\": {\"domainWidth\": 0, \"labels\": false, \"tickWidth\": 0, \"title\": \"sepalLength\"}, \"stack\": null}}, \"height\": 150, \"width\": 150}, {\"mark\": {\"type\": \"circle\", \"clip\": true, \"size\": 20.0}, \"encoding\": {\"color\": {\"type\": \"nominal\", \"field\": \"species\", \"legend\": null}, \"x\": {\"type\": \"quantitative\", \"axis\": {\"domainWidth\": 0, \"labels\": false, \"tickWidth\": 0, \"title\": \"\"}, \"field\": \"sepalWidth\"}, \"y\": {\"type\": \"quantitative\", \"axis\": {\"domainWidth\": 0, \"labels\": false, \"tickWidth\": 0, \"title\": \"\"}, \"field\": \"sepalLength\"}}, \"height\": 150, \"width\": 150}, {\"mark\": {\"type\": \"circle\", \"clip\": true, \"size\": 20.0}, \"encoding\": {\"color\": {\"type\": \"nominal\", \"field\": \"species\", \"legend\": null}, \"x\": {\"type\": \"quantitative\", \"axis\": {\"domainWidth\": 0, \"labels\": false, \"tickWidth\": 0, \"title\": \"\"}, \"field\": \"petalLength\"}, \"y\": {\"type\": \"quantitative\", \"axis\": {\"domainWidth\": 0, \"labels\": false, \"tickWidth\": 0, \"title\": \"\"}, \"field\": \"sepalLength\"}}, \"height\": 150, \"width\": 150}, {\"mark\": {\"type\": \"circle\", \"clip\": true, \"size\": 20.0}, \"encoding\": {\"color\": {\"type\": \"nominal\", \"field\": \"species\", \"legend\": null}, \"x\": {\"type\": \"quantitative\", \"axis\": {\"domainWidth\": 0, \"labels\": false, \"tickWidth\": 0, \"title\": \"\"}, \"field\": \"petalWidth\"}, \"y\": {\"type\": \"quantitative\", \"axis\": {\"domainWidth\": 0, \"labels\": false, \"tickWidth\": 0, \"title\": \"\"}, \"field\": \"sepalLength\"}}, \"height\": 150, \"width\": 150}]}, {\"hconcat\": [{\"mark\": {\"type\": \"circle\", \"clip\": true, \"size\": 20.0}, \"encoding\": {\"color\": {\"type\": \"nominal\", \"field\": \"species\", \"legend\": null}, \"x\": {\"type\": \"quantitative\", \"axis\": {\"domainWidth\": 0, \"labels\": false, \"tickWidth\": 0, \"title\": \"\"}, \"field\": \"sepalLength\"}, \"y\": {\"type\": \"quantitative\", \"axis\": {\"domainWidth\": 0, \"labels\": false, \"tickWidth\": 0, \"title\": \"sepalWidth\"}, \"field\": \"sepalWidth\"}}, \"height\": 150, \"width\": 150}, {\"mark\": {\"type\": \"bar\", \"clip\": true, \"opacity\": 0.5}, \"encoding\": {\"color\": {\"type\": \"nominal\", \"field\": \"species\", \"legend\": null}, \"x\": {\"type\": \"quantitative\", \"axis\": {\"domainWidth\": 0, \"labels\": false, \"tickWidth\": 0, \"title\": \"\"}, \"bin\": {\"maxbins\": 20}, \"field\": \"sepalWidth\"}, \"y\": {\"type\": \"quantitative\", \"aggregate\": \"count\", \"axis\": {\"domainWidth\": 0, \"labels\": false, \"tickWidth\": 0, \"title\": \"\"}, \"stack\": null}}, \"height\": 150, \"width\": 150}, {\"mark\": {\"type\": \"circle\", \"clip\": true, \"size\": 20.0}, \"encoding\": {\"color\": {\"type\": \"nominal\", \"field\": \"species\", \"legend\": null}, \"x\": {\"type\": \"quantitative\", \"axis\": {\"domainWidth\": 0, \"labels\": false, \"tickWidth\": 0, \"title\": \"\"}, \"field\": \"petalLength\"}, \"y\": {\"type\": \"quantitative\", \"axis\": {\"domainWidth\": 0, \"labels\": false, \"tickWidth\": 0, \"title\": \"\"}, \"field\": \"sepalWidth\"}}, \"height\": 150, \"width\": 150}, {\"mark\": {\"type\": \"circle\", \"clip\": true, \"size\": 20.0}, \"encoding\": {\"color\": {\"type\": \"nominal\", \"field\": \"species\", \"legend\": null}, \"x\": {\"type\": \"quantitative\", \"axis\": {\"domainWidth\": 0, \"labels\": false, \"tickWidth\": 0, \"title\": \"\"}, \"field\": \"petalWidth\"}, \"y\": {\"type\": \"quantitative\", \"axis\": {\"domainWidth\": 0, \"labels\": false, \"tickWidth\": 0, \"title\": \"\"}, \"field\": \"sepalWidth\"}}, \"height\": 150, \"width\": 150}]}, {\"hconcat\": [{\"mark\": {\"type\": \"circle\", \"clip\": true, \"size\": 20.0}, \"encoding\": {\"color\": {\"type\": \"nominal\", \"field\": \"species\", \"legend\": null}, \"x\": {\"type\": \"quantitative\", \"axis\": {\"domainWidth\": 0, \"labels\": false, \"tickWidth\": 0, \"title\": \"\"}, \"field\": \"sepalLength\"}, \"y\": {\"type\": \"quantitative\", \"axis\": {\"domainWidth\": 0, \"labels\": false, \"tickWidth\": 0, \"title\": \"petalLength\"}, \"field\": \"petalLength\"}}, \"height\": 150, \"width\": 150}, {\"mark\": {\"type\": \"circle\", \"clip\": true, \"size\": 20.0}, \"encoding\": {\"color\": {\"type\": \"nominal\", \"field\": \"species\", \"legend\": null}, \"x\": {\"type\": \"quantitative\", \"axis\": {\"domainWidth\": 0, \"labels\": false, \"tickWidth\": 0, \"title\": \"\"}, \"field\": \"sepalWidth\"}, \"y\": {\"type\": \"quantitative\", \"axis\": {\"domainWidth\": 0, \"labels\": false, \"tickWidth\": 0, \"title\": \"\"}, \"field\": \"petalLength\"}}, \"height\": 150, \"width\": 150}, {\"mark\": {\"type\": \"bar\", \"clip\": true, \"opacity\": 0.5}, \"encoding\": {\"color\": {\"type\": \"nominal\", \"field\": \"species\", \"legend\": null}, \"x\": {\"type\": \"quantitative\", \"axis\": {\"domainWidth\": 0, \"labels\": false, \"tickWidth\": 0, \"title\": \"\"}, \"bin\": {\"maxbins\": 20}, \"field\": \"petalLength\"}, \"y\": {\"type\": \"quantitative\", \"aggregate\": \"count\", \"axis\": {\"domainWidth\": 0, \"labels\": false, \"tickWidth\": 0, \"title\": \"\"}, \"stack\": null}}, \"height\": 150, \"width\": 150}, {\"mark\": {\"type\": \"circle\", \"clip\": true, \"size\": 20.0}, \"encoding\": {\"color\": {\"type\": \"nominal\", \"field\": \"species\", \"legend\": null}, \"x\": {\"type\": \"quantitative\", \"axis\": {\"domainWidth\": 0, \"labels\": false, \"tickWidth\": 0, \"title\": \"\"}, \"field\": \"petalWidth\"}, \"y\": {\"type\": \"quantitative\", \"axis\": {\"domainWidth\": 0, \"labels\": false, \"tickWidth\": 0, \"title\": \"\"}, \"field\": \"petalLength\"}}, \"height\": 150, \"width\": 150}]}, {\"hconcat\": [{\"mark\": {\"type\": \"circle\", \"clip\": true, \"size\": 20.0}, \"encoding\": {\"color\": {\"type\": \"nominal\", \"field\": \"species\", \"legend\": null}, \"x\": {\"type\": \"quantitative\", \"axis\": {}, \"field\": \"sepalLength\"}, \"y\": {\"type\": \"quantitative\", \"axis\": {\"domainWidth\": 0, \"labels\": false, \"tickWidth\": 0, \"title\": \"petalWidth\"}, \"field\": \"petalWidth\"}}, \"height\": 150, \"width\": 150}, {\"mark\": {\"type\": \"circle\", \"clip\": true, \"size\": 20.0}, \"encoding\": {\"color\": {\"type\": \"nominal\", \"field\": \"species\", \"legend\": null}, \"x\": {\"type\": \"quantitative\", \"axis\": {}, \"field\": \"sepalWidth\"}, \"y\": {\"type\": \"quantitative\", \"axis\": {\"domainWidth\": 0, \"labels\": false, \"tickWidth\": 0, \"title\": \"\"}, \"field\": \"petalWidth\"}}, \"height\": 150, \"width\": 150}, {\"mark\": {\"type\": \"circle\", \"clip\": true, \"size\": 20.0}, \"encoding\": {\"color\": {\"type\": \"nominal\", \"field\": \"species\", \"legend\": null}, \"x\": {\"type\": \"quantitative\", \"axis\": {}, \"field\": \"petalLength\"}, \"y\": {\"type\": \"quantitative\", \"axis\": {\"domainWidth\": 0, \"labels\": false, \"tickWidth\": 0, \"title\": \"\"}, \"field\": \"petalWidth\"}}, \"height\": 150, \"width\": 150}, {\"mark\": {\"type\": \"bar\", \"clip\": true, \"opacity\": 0.5}, \"encoding\": {\"color\": {\"type\": \"nominal\", \"field\": \"species\", \"legend\": null}, \"x\": {\"type\": \"quantitative\", \"axis\": {\"title\": \"petalWidth\"}, \"bin\": {\"maxbins\": 20}, \"field\": \"petalWidth\"}, \"y\": {\"type\": \"quantitative\", \"aggregate\": \"count\", \"axis\": {\"domainWidth\": 0, \"labels\": false, \"tickWidth\": 0, \"title\": \"\"}, \"stack\": null}}, \"height\": 150, \"width\": 150}]}], \"data\": {\"name\": \"data-a264acbd6e539a8b3afc0cb5f240fb57\"}, \"$schema\": \"https://vega.github.io/schema/vega-lite/v4.8.1.json\", \"datasets\": {\"data-a264acbd6e539a8b3afc0cb5f240fb57\": [{\"sepalLength\": 5.1, \"sepalWidth\": 3.5, \"petalLength\": 1.4, \"petalWidth\": 0.2, \"species\": \"setosa\"}, {\"sepalLength\": 4.9, \"sepalWidth\": 3.0, \"petalLength\": 1.4, \"petalWidth\": 0.2, \"species\": \"setosa\"}, {\"sepalLength\": 4.7, \"sepalWidth\": 3.2, \"petalLength\": 1.3, \"petalWidth\": 0.2, \"species\": \"setosa\"}, {\"sepalLength\": 4.6, \"sepalWidth\": 3.1, \"petalLength\": 1.5, \"petalWidth\": 0.2, \"species\": \"setosa\"}, {\"sepalLength\": 5.0, \"sepalWidth\": 3.6, \"petalLength\": 1.4, \"petalWidth\": 0.2, \"species\": \"setosa\"}, {\"sepalLength\": 5.4, \"sepalWidth\": 3.9, \"petalLength\": 1.7000000000000002, \"petalWidth\": 0.4, \"species\": \"setosa\"}, {\"sepalLength\": 4.6, \"sepalWidth\": 3.4, \"petalLength\": 1.4, \"petalWidth\": 0.30000000000000004, \"species\": \"setosa\"}, {\"sepalLength\": 5.0, \"sepalWidth\": 3.4, \"petalLength\": 1.5, \"petalWidth\": 0.2, \"species\": \"setosa\"}, {\"sepalLength\": 4.4, \"sepalWidth\": 2.9, \"petalLength\": 1.4, \"petalWidth\": 0.2, \"species\": \"setosa\"}, {\"sepalLength\": 4.9, \"sepalWidth\": 3.1, \"petalLength\": 1.5, \"petalWidth\": 0.1, \"species\": \"setosa\"}, {\"sepalLength\": 5.4, \"sepalWidth\": 3.7, \"petalLength\": 1.5, \"petalWidth\": 0.2, \"species\": \"setosa\"}, {\"sepalLength\": 4.8, \"sepalWidth\": 3.4, \"petalLength\": 1.6, \"petalWidth\": 0.2, \"species\": \"setosa\"}, {\"sepalLength\": 4.8, \"sepalWidth\": 3.0, \"petalLength\": 1.4, \"petalWidth\": 0.1, \"species\": \"setosa\"}, {\"sepalLength\": 4.3, \"sepalWidth\": 3.0, \"petalLength\": 1.1, \"petalWidth\": 0.1, \"species\": \"setosa\"}, {\"sepalLength\": 5.8, \"sepalWidth\": 4.0, \"petalLength\": 1.2, \"petalWidth\": 0.2, \"species\": \"setosa\"}, {\"sepalLength\": 5.7, \"sepalWidth\": 4.4, \"petalLength\": 1.5, \"petalWidth\": 0.4, \"species\": \"setosa\"}, {\"sepalLength\": 5.4, \"sepalWidth\": 3.9, \"petalLength\": 1.3, \"petalWidth\": 0.4, \"species\": \"setosa\"}, {\"sepalLength\": 5.1, \"sepalWidth\": 3.5, \"petalLength\": 1.4, \"petalWidth\": 0.30000000000000004, \"species\": \"setosa\"}, {\"sepalLength\": 5.7, \"sepalWidth\": 3.8, \"petalLength\": 1.7000000000000002, \"petalWidth\": 0.30000000000000004, \"species\": \"setosa\"}, {\"sepalLength\": 5.1, \"sepalWidth\": 3.8, \"petalLength\": 1.5, \"petalWidth\": 0.30000000000000004, \"species\": \"setosa\"}, {\"sepalLength\": 5.4, \"sepalWidth\": 3.4, \"petalLength\": 1.7000000000000002, \"petalWidth\": 0.2, \"species\": \"setosa\"}, {\"sepalLength\": 5.1, \"sepalWidth\": 3.7, \"petalLength\": 1.5, \"petalWidth\": 0.4, \"species\": \"setosa\"}, {\"sepalLength\": 4.6, \"sepalWidth\": 3.6, \"petalLength\": 1.0, \"petalWidth\": 0.2, \"species\": \"setosa\"}, {\"sepalLength\": 5.1, \"sepalWidth\": 3.3, \"petalLength\": 1.7000000000000002, \"petalWidth\": 0.5, \"species\": \"setosa\"}, {\"sepalLength\": 4.8, \"sepalWidth\": 3.4, \"petalLength\": 1.9, \"petalWidth\": 0.2, \"species\": \"setosa\"}, {\"sepalLength\": 5.0, \"sepalWidth\": 3.0, \"petalLength\": 1.6, \"petalWidth\": 0.2, \"species\": \"setosa\"}, {\"sepalLength\": 5.0, \"sepalWidth\": 3.4, \"petalLength\": 1.6, \"petalWidth\": 0.4, \"species\": \"setosa\"}, {\"sepalLength\": 5.2, \"sepalWidth\": 3.5, \"petalLength\": 1.5, \"petalWidth\": 0.2, \"species\": \"setosa\"}, {\"sepalLength\": 5.2, \"sepalWidth\": 3.4, \"petalLength\": 1.4, \"petalWidth\": 0.2, \"species\": \"setosa\"}, {\"sepalLength\": 4.7, \"sepalWidth\": 3.2, \"petalLength\": 1.6, \"petalWidth\": 0.2, \"species\": \"setosa\"}, {\"sepalLength\": 4.8, \"sepalWidth\": 3.1, \"petalLength\": 1.6, \"petalWidth\": 0.2, \"species\": \"setosa\"}, {\"sepalLength\": 5.4, \"sepalWidth\": 3.4, \"petalLength\": 1.5, \"petalWidth\": 0.4, \"species\": \"setosa\"}, {\"sepalLength\": 5.2, \"sepalWidth\": 4.1, \"petalLength\": 1.5, \"petalWidth\": 0.1, \"species\": \"setosa\"}, {\"sepalLength\": 5.5, \"sepalWidth\": 4.2, \"petalLength\": 1.4, \"petalWidth\": 0.2, \"species\": \"setosa\"}, {\"sepalLength\": 4.9, \"sepalWidth\": 3.1, \"petalLength\": 1.5, \"petalWidth\": 0.2, \"species\": \"setosa\"}, {\"sepalLength\": 5.0, \"sepalWidth\": 3.2, \"petalLength\": 1.2, \"petalWidth\": 0.2, \"species\": \"setosa\"}, {\"sepalLength\": 5.5, \"sepalWidth\": 3.5, \"petalLength\": 1.3, \"petalWidth\": 0.2, \"species\": \"setosa\"}, {\"sepalLength\": 4.9, \"sepalWidth\": 3.6, \"petalLength\": 1.4, \"petalWidth\": 0.1, \"species\": \"setosa\"}, {\"sepalLength\": 4.4, \"sepalWidth\": 3.0, \"petalLength\": 1.3, \"petalWidth\": 0.2, \"species\": \"setosa\"}, {\"sepalLength\": 5.1, \"sepalWidth\": 3.4, \"petalLength\": 1.5, \"petalWidth\": 0.2, \"species\": \"setosa\"}, {\"sepalLength\": 5.0, \"sepalWidth\": 3.5, \"petalLength\": 1.3, \"petalWidth\": 0.30000000000000004, \"species\": \"setosa\"}, {\"sepalLength\": 4.5, \"sepalWidth\": 2.3, \"petalLength\": 1.3, \"petalWidth\": 0.30000000000000004, \"species\": \"setosa\"}, {\"sepalLength\": 4.4, \"sepalWidth\": 3.2, \"petalLength\": 1.3, \"petalWidth\": 0.2, \"species\": \"setosa\"}, {\"sepalLength\": 5.0, \"sepalWidth\": 3.5, \"petalLength\": 1.6, \"petalWidth\": 0.6000000000000001, \"species\": \"setosa\"}, {\"sepalLength\": 5.1, \"sepalWidth\": 3.8, \"petalLength\": 1.9, \"petalWidth\": 0.4, \"species\": \"setosa\"}, {\"sepalLength\": 4.8, \"sepalWidth\": 3.0, \"petalLength\": 1.4, \"petalWidth\": 0.30000000000000004, \"species\": \"setosa\"}, {\"sepalLength\": 5.1, \"sepalWidth\": 3.8, \"petalLength\": 1.6, \"petalWidth\": 0.2, \"species\": \"setosa\"}, {\"sepalLength\": 4.6, \"sepalWidth\": 3.2, \"petalLength\": 1.4, \"petalWidth\": 0.2, \"species\": \"setosa\"}, {\"sepalLength\": 5.3, \"sepalWidth\": 3.7, \"petalLength\": 1.5, \"petalWidth\": 0.2, \"species\": \"setosa\"}, {\"sepalLength\": 5.0, \"sepalWidth\": 3.3, \"petalLength\": 1.4, \"petalWidth\": 0.2, \"species\": \"setosa\"}, {\"sepalLength\": 7.0, \"sepalWidth\": 3.2, \"petalLength\": 4.7, \"petalWidth\": 1.4, \"species\": \"versicolor\"}, {\"sepalLength\": 6.4, \"sepalWidth\": 3.2, \"petalLength\": 4.5, \"petalWidth\": 1.5, \"species\": \"versicolor\"}, {\"sepalLength\": 6.9, \"sepalWidth\": 3.1, \"petalLength\": 4.9, \"petalWidth\": 1.5, \"species\": \"versicolor\"}, {\"sepalLength\": 5.5, \"sepalWidth\": 2.3, \"petalLength\": 4.0, \"petalWidth\": 1.3, \"species\": \"versicolor\"}, {\"sepalLength\": 6.5, \"sepalWidth\": 2.8, \"petalLength\": 4.6, \"petalWidth\": 1.5, \"species\": \"versicolor\"}, {\"sepalLength\": 5.7, \"sepalWidth\": 2.8, \"petalLength\": 4.5, \"petalWidth\": 1.3, \"species\": \"versicolor\"}, {\"sepalLength\": 6.3, \"sepalWidth\": 3.3, \"petalLength\": 4.7, \"petalWidth\": 1.6, \"species\": \"versicolor\"}, {\"sepalLength\": 4.9, \"sepalWidth\": 2.4, \"petalLength\": 3.3, \"petalWidth\": 1.0, \"species\": \"versicolor\"}, {\"sepalLength\": 6.6, \"sepalWidth\": 2.9, \"petalLength\": 4.6, \"petalWidth\": 1.3, \"species\": \"versicolor\"}, {\"sepalLength\": 5.2, \"sepalWidth\": 2.7, \"petalLength\": 3.9, \"petalWidth\": 1.4, \"species\": \"versicolor\"}, {\"sepalLength\": 5.0, \"sepalWidth\": 2.0, \"petalLength\": 3.5, \"petalWidth\": 1.0, \"species\": \"versicolor\"}, {\"sepalLength\": 5.9, \"sepalWidth\": 3.0, \"petalLength\": 4.2, \"petalWidth\": 1.5, \"species\": \"versicolor\"}, {\"sepalLength\": 6.0, \"sepalWidth\": 2.2, \"petalLength\": 4.0, \"petalWidth\": 1.0, \"species\": \"versicolor\"}, {\"sepalLength\": 6.1, \"sepalWidth\": 2.9, \"petalLength\": 4.7, \"petalWidth\": 1.4, \"species\": \"versicolor\"}, {\"sepalLength\": 5.6, \"sepalWidth\": 2.9, \"petalLength\": 3.6, \"petalWidth\": 1.3, \"species\": \"versicolor\"}, {\"sepalLength\": 6.7, \"sepalWidth\": 3.1, \"petalLength\": 4.4, \"petalWidth\": 1.4, \"species\": \"versicolor\"}, {\"sepalLength\": 5.6, \"sepalWidth\": 3.0, \"petalLength\": 4.5, \"petalWidth\": 1.5, \"species\": \"versicolor\"}, {\"sepalLength\": 5.8, \"sepalWidth\": 2.7, \"petalLength\": 4.1, \"petalWidth\": 1.0, \"species\": \"versicolor\"}, {\"sepalLength\": 6.2, \"sepalWidth\": 2.2, \"petalLength\": 4.5, \"petalWidth\": 1.5, \"species\": \"versicolor\"}, {\"sepalLength\": 5.6, \"sepalWidth\": 2.5, \"petalLength\": 3.9, \"petalWidth\": 1.1, \"species\": \"versicolor\"}, {\"sepalLength\": 5.9, \"sepalWidth\": 3.2, \"petalLength\": 4.8, \"petalWidth\": 1.8, \"species\": \"versicolor\"}, {\"sepalLength\": 6.1, \"sepalWidth\": 2.8, \"petalLength\": 4.0, \"petalWidth\": 1.3, \"species\": \"versicolor\"}, {\"sepalLength\": 6.3, \"sepalWidth\": 2.5, \"petalLength\": 4.9, \"petalWidth\": 1.5, \"species\": \"versicolor\"}, {\"sepalLength\": 6.1, \"sepalWidth\": 2.8, \"petalLength\": 4.7, \"petalWidth\": 1.2, \"species\": \"versicolor\"}, {\"sepalLength\": 6.4, \"sepalWidth\": 2.9, \"petalLength\": 4.3, \"petalWidth\": 1.3, \"species\": \"versicolor\"}, {\"sepalLength\": 6.6, \"sepalWidth\": 3.0, \"petalLength\": 4.4, \"petalWidth\": 1.4, \"species\": \"versicolor\"}, {\"sepalLength\": 6.8, \"sepalWidth\": 2.8, \"petalLength\": 4.8, \"petalWidth\": 1.4, \"species\": \"versicolor\"}, {\"sepalLength\": 6.7, \"sepalWidth\": 3.0, \"petalLength\": 5.0, \"petalWidth\": 1.7000000000000002, \"species\": \"versicolor\"}, {\"sepalLength\": 6.0, \"sepalWidth\": 2.9, \"petalLength\": 4.5, \"petalWidth\": 1.5, \"species\": \"versicolor\"}, {\"sepalLength\": 5.7, \"sepalWidth\": 2.6, \"petalLength\": 3.5, \"petalWidth\": 1.0, \"species\": \"versicolor\"}, {\"sepalLength\": 5.5, \"sepalWidth\": 2.4, \"petalLength\": 3.8, \"petalWidth\": 1.1, \"species\": \"versicolor\"}, {\"sepalLength\": 5.5, \"sepalWidth\": 2.4, \"petalLength\": 3.7, \"petalWidth\": 1.0, \"species\": \"versicolor\"}, {\"sepalLength\": 5.8, \"sepalWidth\": 2.7, \"petalLength\": 3.9, \"petalWidth\": 1.2, \"species\": \"versicolor\"}, {\"sepalLength\": 6.0, \"sepalWidth\": 2.7, \"petalLength\": 5.1, \"petalWidth\": 1.6, \"species\": \"versicolor\"}, {\"sepalLength\": 5.4, \"sepalWidth\": 3.0, \"petalLength\": 4.5, \"petalWidth\": 1.5, \"species\": \"versicolor\"}, {\"sepalLength\": 6.0, \"sepalWidth\": 3.4, \"petalLength\": 4.5, \"petalWidth\": 1.6, \"species\": \"versicolor\"}, {\"sepalLength\": 6.7, \"sepalWidth\": 3.1, \"petalLength\": 4.7, \"petalWidth\": 1.5, \"species\": \"versicolor\"}, {\"sepalLength\": 6.3, \"sepalWidth\": 2.3, \"petalLength\": 4.4, \"petalWidth\": 1.3, \"species\": \"versicolor\"}, {\"sepalLength\": 5.6, \"sepalWidth\": 3.0, \"petalLength\": 4.1, \"petalWidth\": 1.3, \"species\": \"versicolor\"}, {\"sepalLength\": 5.5, \"sepalWidth\": 2.5, \"petalLength\": 4.0, \"petalWidth\": 1.3, \"species\": \"versicolor\"}, {\"sepalLength\": 5.5, \"sepalWidth\": 2.6, \"petalLength\": 4.4, \"petalWidth\": 1.2, \"species\": \"versicolor\"}, {\"sepalLength\": 6.1, \"sepalWidth\": 3.0, \"petalLength\": 4.6, \"petalWidth\": 1.4, \"species\": \"versicolor\"}, {\"sepalLength\": 5.8, \"sepalWidth\": 2.6, \"petalLength\": 4.0, \"petalWidth\": 1.2, \"species\": \"versicolor\"}, {\"sepalLength\": 5.0, \"sepalWidth\": 2.3, \"petalLength\": 3.3, \"petalWidth\": 1.0, \"species\": \"versicolor\"}, {\"sepalLength\": 5.6, \"sepalWidth\": 2.7, \"petalLength\": 4.2, \"petalWidth\": 1.3, \"species\": \"versicolor\"}, {\"sepalLength\": 5.7, \"sepalWidth\": 3.0, \"petalLength\": 4.2, \"petalWidth\": 1.2, \"species\": \"versicolor\"}, {\"sepalLength\": 5.7, \"sepalWidth\": 2.9, \"petalLength\": 4.2, \"petalWidth\": 1.3, \"species\": \"versicolor\"}, {\"sepalLength\": 6.2, \"sepalWidth\": 2.9, \"petalLength\": 4.3, \"petalWidth\": 1.3, \"species\": \"versicolor\"}, {\"sepalLength\": 5.1, \"sepalWidth\": 2.5, \"petalLength\": 3.0, \"petalWidth\": 1.1, \"species\": \"versicolor\"}, {\"sepalLength\": 5.7, \"sepalWidth\": 2.8, \"petalLength\": 4.1, \"petalWidth\": 1.3, \"species\": \"versicolor\"}, {\"sepalLength\": 6.3, \"sepalWidth\": 3.3, \"petalLength\": 6.0, \"petalWidth\": 2.5, \"species\": \"virginica\"}, {\"sepalLength\": 5.8, \"sepalWidth\": 2.7, \"petalLength\": 5.1, \"petalWidth\": 1.9, \"species\": \"virginica\"}, {\"sepalLength\": 7.1, \"sepalWidth\": 3.0, \"petalLength\": 5.9, \"petalWidth\": 2.1, \"species\": \"virginica\"}, {\"sepalLength\": 6.3, \"sepalWidth\": 2.9, \"petalLength\": 5.6, \"petalWidth\": 1.8, \"species\": \"virginica\"}, {\"sepalLength\": 6.5, \"sepalWidth\": 3.0, \"petalLength\": 5.8, \"petalWidth\": 2.2, \"species\": \"virginica\"}, {\"sepalLength\": 7.6, \"sepalWidth\": 3.0, \"petalLength\": 6.6, \"petalWidth\": 2.1, \"species\": \"virginica\"}, {\"sepalLength\": 4.9, \"sepalWidth\": 2.5, \"petalLength\": 4.5, \"petalWidth\": 1.7000000000000002, \"species\": \"virginica\"}, {\"sepalLength\": 7.3, \"sepalWidth\": 2.9, \"petalLength\": 6.3, \"petalWidth\": 1.8, \"species\": \"virginica\"}, {\"sepalLength\": 6.7, \"sepalWidth\": 2.5, \"petalLength\": 5.8, \"petalWidth\": 1.8, \"species\": \"virginica\"}, {\"sepalLength\": 7.2, \"sepalWidth\": 3.6, \"petalLength\": 6.1, \"petalWidth\": 2.5, \"species\": \"virginica\"}, {\"sepalLength\": 6.5, \"sepalWidth\": 3.2, \"petalLength\": 5.1, \"petalWidth\": 2.0, \"species\": \"virginica\"}, {\"sepalLength\": 6.4, \"sepalWidth\": 2.7, \"petalLength\": 5.3, \"petalWidth\": 1.9, \"species\": \"virginica\"}, {\"sepalLength\": 6.8, \"sepalWidth\": 3.0, \"petalLength\": 5.5, \"petalWidth\": 2.1, \"species\": \"virginica\"}, {\"sepalLength\": 5.7, \"sepalWidth\": 2.5, \"petalLength\": 5.0, \"petalWidth\": 2.0, \"species\": \"virginica\"}, {\"sepalLength\": 5.8, \"sepalWidth\": 2.8, \"petalLength\": 5.1, \"petalWidth\": 2.4, \"species\": \"virginica\"}, {\"sepalLength\": 6.4, \"sepalWidth\": 3.2, \"petalLength\": 5.3, \"petalWidth\": 2.3, \"species\": \"virginica\"}, {\"sepalLength\": 6.5, \"sepalWidth\": 3.0, \"petalLength\": 5.5, \"petalWidth\": 1.8, \"species\": \"virginica\"}, {\"sepalLength\": 7.7, \"sepalWidth\": 3.8, \"petalLength\": 6.7, \"petalWidth\": 2.2, \"species\": \"virginica\"}, {\"sepalLength\": 7.7, \"sepalWidth\": 2.6, \"petalLength\": 6.9, \"petalWidth\": 2.3, \"species\": \"virginica\"}, {\"sepalLength\": 6.0, \"sepalWidth\": 2.2, \"petalLength\": 5.0, \"petalWidth\": 1.5, \"species\": \"virginica\"}, {\"sepalLength\": 6.9, \"sepalWidth\": 3.2, \"petalLength\": 5.7, \"petalWidth\": 2.3, \"species\": \"virginica\"}, {\"sepalLength\": 5.6, \"sepalWidth\": 2.8, \"petalLength\": 4.9, \"petalWidth\": 2.0, \"species\": \"virginica\"}, {\"sepalLength\": 7.7, \"sepalWidth\": 2.8, \"petalLength\": 6.7, \"petalWidth\": 2.0, \"species\": \"virginica\"}, {\"sepalLength\": 6.3, \"sepalWidth\": 2.7, \"petalLength\": 4.9, \"petalWidth\": 1.8, \"species\": \"virginica\"}, {\"sepalLength\": 6.7, \"sepalWidth\": 3.3, \"petalLength\": 5.7, \"petalWidth\": 2.1, \"species\": \"virginica\"}, {\"sepalLength\": 7.2, \"sepalWidth\": 3.2, \"petalLength\": 6.0, \"petalWidth\": 1.8, \"species\": \"virginica\"}, {\"sepalLength\": 6.2, \"sepalWidth\": 2.8, \"petalLength\": 4.8, \"petalWidth\": 1.8, \"species\": \"virginica\"}, {\"sepalLength\": 6.1, \"sepalWidth\": 3.0, \"petalLength\": 4.9, \"petalWidth\": 1.8, \"species\": \"virginica\"}, {\"sepalLength\": 6.4, \"sepalWidth\": 2.8, \"petalLength\": 5.6, \"petalWidth\": 2.1, \"species\": \"virginica\"}, {\"sepalLength\": 7.2, \"sepalWidth\": 3.0, \"petalLength\": 5.8, \"petalWidth\": 1.6, \"species\": \"virginica\"}, {\"sepalLength\": 7.4, \"sepalWidth\": 2.8, \"petalLength\": 6.1, \"petalWidth\": 1.9, \"species\": \"virginica\"}, {\"sepalLength\": 7.9, \"sepalWidth\": 3.8, \"petalLength\": 6.4, \"petalWidth\": 2.0, \"species\": \"virginica\"}, {\"sepalLength\": 6.4, \"sepalWidth\": 2.8, \"petalLength\": 5.6, \"petalWidth\": 2.2, \"species\": \"virginica\"}, {\"sepalLength\": 6.3, \"sepalWidth\": 2.8, \"petalLength\": 5.1, \"petalWidth\": 1.5, \"species\": \"virginica\"}, {\"sepalLength\": 6.1, \"sepalWidth\": 2.6, \"petalLength\": 5.6, \"petalWidth\": 1.4, \"species\": \"virginica\"}, {\"sepalLength\": 7.7, \"sepalWidth\": 3.0, \"petalLength\": 6.1, \"petalWidth\": 2.3, \"species\": \"virginica\"}, {\"sepalLength\": 6.3, \"sepalWidth\": 3.4, \"petalLength\": 5.6, \"petalWidth\": 2.4, \"species\": \"virginica\"}, {\"sepalLength\": 6.4, \"sepalWidth\": 3.1, \"petalLength\": 5.5, \"petalWidth\": 1.8, \"species\": \"virginica\"}, {\"sepalLength\": 6.0, \"sepalWidth\": 3.0, \"petalLength\": 4.8, \"petalWidth\": 1.8, \"species\": \"virginica\"}, {\"sepalLength\": 6.9, \"sepalWidth\": 3.1, \"petalLength\": 5.4, \"petalWidth\": 2.1, \"species\": \"virginica\"}, {\"sepalLength\": 6.7, \"sepalWidth\": 3.1, \"petalLength\": 5.6, \"petalWidth\": 2.4, \"species\": \"virginica\"}, {\"sepalLength\": 6.9, \"sepalWidth\": 3.1, \"petalLength\": 5.1, \"petalWidth\": 2.3, \"species\": \"virginica\"}, {\"sepalLength\": 5.8, \"sepalWidth\": 2.7, \"petalLength\": 5.1, \"petalWidth\": 1.9, \"species\": \"virginica\"}, {\"sepalLength\": 6.8, \"sepalWidth\": 3.2, \"petalLength\": 5.9, \"petalWidth\": 2.3, \"species\": \"virginica\"}, {\"sepalLength\": 6.7, \"sepalWidth\": 3.3, \"petalLength\": 5.7, \"petalWidth\": 2.5, \"species\": \"virginica\"}, {\"sepalLength\": 6.7, \"sepalWidth\": 3.0, \"petalLength\": 5.2, \"petalWidth\": 2.3, \"species\": \"virginica\"}, {\"sepalLength\": 6.3, \"sepalWidth\": 2.5, \"petalLength\": 5.0, \"petalWidth\": 1.9, \"species\": \"virginica\"}, {\"sepalLength\": 6.5, \"sepalWidth\": 3.0, \"petalLength\": 5.2, \"petalWidth\": 2.0, \"species\": \"virginica\"}, {\"sepalLength\": 6.2, \"sepalWidth\": 3.4, \"petalLength\": 5.4, \"petalWidth\": 2.3, \"species\": \"virginica\"}, {\"sepalLength\": 5.9, \"sepalWidth\": 3.0, \"petalLength\": 5.1, \"petalWidth\": 1.8, \"species\": \"virginica\"}]}}, {\"mode\": \"vega-lite\"});\n",
       "</script>"
      ],
      "text/plain": [
       "alt.VConcatChart(...)"
      ]
     },
     "execution_count": 3,
     "metadata": {},
     "output_type": "execute_result"
    }
   ],
   "source": [
    "import altair as alt\n",
    "import deneb as den\n",
    "from vega_datasets import data\n",
    "\n",
    "df = data.iris()\n",
    "\n",
    "den.set_style(font_size=14, font_family=\"Inter\", google_font=True)\n",
    "\n",
    "chart = den.pairplot(\n",
    "    df, \n",
    "    field=\"species\",\n",
    "    color=alt.Color(\"species:N\", legend=None),\n",
    "    scatter_size=20.,\n",
    "    bar_opacity=0.5,\n",
    "    width=150,\n",
    "    height=150)\n",
    "chart"
   ]
  },
  {
   "cell_type": "code",
   "execution_count": 4,
   "metadata": {},
   "outputs": [
    {
     "data": {
      "text/html": [
       "<img src=\"pairplot.png?now=1599516022.4805608\" / >"
      ],
      "text/plain": [
       "<IPython.core.display.HTML object>"
      ]
     },
     "metadata": {},
     "output_type": "display_data"
    }
   ],
   "source": [
    "den.save(chart, \"pairplot.svg\", extra_formats=\"png\")\n",
    "den.display_img(\"pairplot.png\")"
   ]
  },
  {
   "cell_type": "code",
   "execution_count": 5,
   "metadata": {},
   "outputs": [
    {
     "name": "stdout",
     "output_type": "stream",
     "text": [
      "Help on function pairplot in module deneb.pairplot:\n",
      "\n",
      "pairplot(df: pandas.core.frame.DataFrame, field: str = 'samples', limits: Union[List[float], NoneType] = None, values: Union[List[float], NoneType] = None, scatter_size: float = 1.5, legend: bool = False, format: Union[str, NoneType] = None, color: Union[str, altair.vegalite.v4.schema.channels.Color, NoneType] = None, num_bins: int = 20, bar_opacity: float = 0.8, clip: bool = True, height: Union[int, NoneType] = None, width: Union[int, NoneType] = None, debug: bool = False) -> altair.vegalite.v4.api.Chart\n",
      "    Pairplot\n",
      "    \n",
      "    Args:\n",
      "        df: Samples as as pandas DataFrame. The dataframe needs one column\n",
      "            labelled with the value of field (defaults to `sample`) which contains the\n",
      "            sample identifier as a string. All other columns should contain float\n",
      "            values which will be plotted. The utility function `deneb.np2df` may be\n",
      "            used to turn a NumPy array into the correct format.\n",
      "        limits: Limits for plotting (optional)\n",
      "        values: Tickmark locations (optional)\n",
      "        scatter_size: Size of scatter points\n",
      "        legend: Whether or not to show legend\n",
      "        format: Format string for axis ticks (optional)\n",
      "        color: Colorscale, e.g. constructed with `deneb.colorscale`\n",
      "        num_bins: Number of bins\n",
      "        bar_opacity: Opacity of bars\n",
      "        clip: Whether to clip\n",
      "        height: Height of subplot\n",
      "        width: Width of subplot\n",
      "        debug: Debug mode\n",
      "    \n",
      "    Returns:\n",
      "        Chart\n",
      "    \n",
      "    Note:\n",
      "        Build on top of https://github.com/alt-viz/alt/issues/1926.\n",
      "\n"
     ]
    }
   ],
   "source": [
    "help(den.pairplot)"
   ]
  },
  {
   "cell_type": "code",
   "execution_count": 6,
   "metadata": {},
   "outputs": [
    {
     "name": "stdout",
     "output_type": "stream",
     "text": [
      "Help on function set_style in module deneb.themes:\n",
      "\n",
      "set_style(border: bool = False, font_family: Union[str, NoneType] = None, font_size: Union[int, NoneType] = None, font_size_label: Union[int, NoneType] = None, font_size_title: Union[int, NoneType] = None, font_weight: Union[str, NoneType] = 'normal', font_weight_label: Union[str, NoneType] = None, font_weight_title: Union[str, NoneType] = None, google_font: bool = False, grid: bool = False, height: int = 100, width: int = 100, extra: Dict[str, Any] = {})\n",
      "    Set custom style\n",
      "    \n",
      "    Any additional kwargs are merged into the config dict as well\n",
      "    \n",
      "    Args:\n",
      "        font_family: Font family to use\n",
      "        font_size: Font size for all labels and titles\n",
      "        font_size_label: If provided, overrides `font_size` for all labels\n",
      "        font_size_title: If provided, overrides `font_size` for all titles\n",
      "        font_weight: Font weight for all labels and titles\n",
      "        font_weight_label: If provided, overrides `font_weight` for all titles\n",
      "        font_weight_title: If provided, overrides `font_weight` for all labels\n",
      "        google_font: Whether to load font from Google Fonts\n",
      "        grid: Whether to show grid\n",
      "        border: Whether to show borders\n",
      "        height: Height\n",
      "        width: Width\n",
      "        extra: Any extra config\n",
      "    \n",
      "    Returns:\n",
      "        None\n",
      "\n"
     ]
    }
   ],
   "source": [
    "help(den.set_style)"
   ]
  }
 ],
 "metadata": {
  "kernelspec": {
   "display_name": "Python 3",
   "language": "python",
   "name": "python3"
  },
  "language_info": {
   "codemirror_mode": {
    "name": "ipython",
    "version": 3
   },
   "file_extension": ".py",
   "mimetype": "text/x-python",
   "name": "python",
   "nbconvert_exporter": "python",
   "pygments_lexer": "ipython3",
   "version": "3.7.7"
  }
 },
 "nbformat": 4,
 "nbformat_minor": 4
}
