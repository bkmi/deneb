{
 "cells": [
  {
   "cell_type": "code",
   "execution_count": 1,
   "metadata": {},
   "outputs": [
    {
     "data": {
      "text/html": [
       "\n",
       "<div id=\"altair-viz-68d1a45a7d0a455bb5f195b0cb4d15bc\"></div>\n",
       "<script type=\"text/javascript\">\n",
       "  (function(spec, embedOpt){\n",
       "    let outputDiv = document.currentScript.previousElementSibling;\n",
       "    if (outputDiv.id !== \"altair-viz-68d1a45a7d0a455bb5f195b0cb4d15bc\") {\n",
       "      outputDiv = document.getElementById(\"altair-viz-68d1a45a7d0a455bb5f195b0cb4d15bc\");\n",
       "    }\n",
       "    const paths = {\n",
       "      \"vega\": \"https://cdn.jsdelivr.net/npm//vega@5?noext\",\n",
       "      \"vega-lib\": \"https://cdn.jsdelivr.net/npm//vega-lib?noext\",\n",
       "      \"vega-lite\": \"https://cdn.jsdelivr.net/npm//vega-lite@4.8.1?noext\",\n",
       "      \"vega-embed\": \"https://cdn.jsdelivr.net/npm//vega-embed@6?noext\",\n",
       "    };\n",
       "\n",
       "    function loadScript(lib) {\n",
       "      return new Promise(function(resolve, reject) {\n",
       "        var s = document.createElement('script');\n",
       "        s.src = paths[lib];\n",
       "        s.async = true;\n",
       "        s.onload = () => resolve(paths[lib]);\n",
       "        s.onerror = () => reject(`Error loading script: ${paths[lib]}`);\n",
       "        document.getElementsByTagName(\"head\")[0].appendChild(s);\n",
       "      });\n",
       "    }\n",
       "\n",
       "    function showError(err) {\n",
       "      outputDiv.innerHTML = `<div class=\"error\" style=\"color:red;\">${err}</div>`;\n",
       "      throw err;\n",
       "    }\n",
       "\n",
       "    function displayChart(vegaEmbed) {\n",
       "      vegaEmbed(outputDiv, spec, embedOpt)\n",
       "        .catch(err => showError(`Javascript Error: ${err.message}<br>This usually means there's a typo in your chart specification. See the javascript console for the full traceback.`));\n",
       "    }\n",
       "\n",
       "    if(typeof define === \"function\" && define.amd) {\n",
       "      requirejs.config({paths});\n",
       "      require([\"vega-embed\"], displayChart, err => showError(`Error loading script: ${err.message}`));\n",
       "    } else if (typeof vegaEmbed === \"function\") {\n",
       "      displayChart(vegaEmbed);\n",
       "    } else {\n",
       "      loadScript(\"vega\")\n",
       "        .then(() => loadScript(\"vega-lite\"))\n",
       "        .then(() => loadScript(\"vega-embed\"))\n",
       "        .catch(showError)\n",
       "        .then(() => displayChart(vegaEmbed));\n",
       "    }\n",
       "  })({\"config\": {\"view\": {\"strokeWidth\": 0, \"continuousHeight\": 100, \"discreteHeight\": 100, \"continuousWidth\": 100, \"discreteWidth\": 100}, \"title\": {\"font\": \"Helvetica Neue\", \"titleFontSize\": 18}, \"axis\": {\"labelFont\": \"Helvetica Neue\", \"titleFont\": \"Helvetica Neue\", \"labelFontSize\": 18, \"titleFontSize\": 18, \"labelFontWeight\": \"normal\", \"titleFontWeight\": \"normal\", \"grid\": false}, \"header\": {\"labelFont\": \"Helvetica Neue\", \"titleFont\": \"Helvetica Neue\", \"labelFontSize\": 18, \"titleFontSize\": 18, \"labelFontWeight\": \"normal\", \"titleFontWeight\": \"normal\"}, \"legend\": {\"labelFont\": \"Helvetica Neue\", \"titleFont\": \"Helvetica Neue\", \"labelFontSize\": 18, \"titleFontSize\": 18, \"labelFontWeight\": \"normal\", \"titleFontWeight\": \"normal\"}}, \"layer\": [{\"mark\": \"rect\", \"encoding\": {\"color\": {\"type\": \"quantitative\", \"field\": \"correlation\", \"legend\": null}, \"x\": {\"type\": \"nominal\", \"axis\": {\"domainWidth\": 0, \"labelAngle\": 0.0, \"tickWidth\": 0}, \"field\": \"var1\", \"title\": null}, \"y\": {\"type\": \"nominal\", \"axis\": {\"domainWidth\": 0, \"labelAngle\": 270.0, \"tickWidth\": 0}, \"field\": \"var2\", \"title\": null}}}, {\"mark\": {\"type\": \"text\", \"size\": 35}, \"encoding\": {\"color\": {\"condition\": {\"value\": \"white\", \"test\": \"datum.correlation > 0.5\"}, \"value\": \"black\"}, \"text\": {\"type\": \"quantitative\", \"field\": \"correlation\", \"format\": \".2f\"}, \"x\": {\"type\": \"nominal\", \"axis\": {\"domainWidth\": 0, \"labelAngle\": 0.0, \"tickWidth\": 0}, \"field\": \"var1\", \"title\": null}, \"y\": {\"type\": \"nominal\", \"axis\": {\"domainWidth\": 0, \"labelAngle\": 270.0, \"tickWidth\": 0}, \"field\": \"var2\", \"title\": null}}}], \"data\": {\"name\": \"data-81197c32c64ed742bf99a94cf2e37e76\"}, \"height\": 500, \"transform\": [{\"filter\": \"datum.var1 < datum.var2\"}], \"width\": 500, \"$schema\": \"https://vega.github.io/schema/vega-lite/v4.8.1.json\", \"datasets\": {\"data-81197c32c64ed742bf99a94cf2e37e76\": [{\"var1\": \"sepalLength\", \"var2\": \"sepalLength\", \"correlation\": 1.0}, {\"var1\": \"sepalWidth\", \"var2\": \"sepalLength\", \"correlation\": -0.11756978413300205}, {\"var1\": \"petalLength\", \"var2\": \"sepalLength\", \"correlation\": 0.8717537758865828}, {\"var1\": \"sepalLength\", \"var2\": \"sepalWidth\", \"correlation\": -0.11756978413300205}, {\"var1\": \"sepalWidth\", \"var2\": \"sepalWidth\", \"correlation\": 1.0}, {\"var1\": \"petalLength\", \"var2\": \"sepalWidth\", \"correlation\": -0.42844010433054003}, {\"var1\": \"sepalLength\", \"var2\": \"petalLength\", \"correlation\": 0.8717537758865828}, {\"var1\": \"sepalWidth\", \"var2\": \"petalLength\", \"correlation\": -0.42844010433054003}, {\"var1\": \"petalLength\", \"var2\": \"petalLength\", \"correlation\": 1.0}]}}, {\"mode\": \"vega-lite\"});\n",
       "</script>"
      ],
      "text/plain": [
       "alt.LayerChart(...)"
      ]
     },
     "execution_count": 1,
     "metadata": {},
     "output_type": "execute_result"
    }
   ],
   "source": [
    "import deneb as den\n",
    "from vega_datasets import data\n",
    "\n",
    "df = data.iris()\n",
    "\n",
    "den.set_style(font_size=18, font_family=\"Helvetica Neue\")\n",
    "\n",
    "chart = den.correlation_matrix(\n",
    "    df, \n",
    "    metrics=[\"sepalLength\", \"sepalWidth\", \"petalLength\"], \n",
    "    font_size=35, \n",
    "    width=500, \n",
    "    height=500)\n",
    "chart"
   ]
  },
  {
   "cell_type": "code",
   "execution_count": 5,
   "metadata": {},
   "outputs": [
    {
     "data": {
      "text/html": [
       "<img src=\"correlation_matrix.png?now=1599515853.715798\" / >"
      ],
      "text/plain": [
       "<IPython.core.display.HTML object>"
      ]
     },
     "metadata": {},
     "output_type": "display_data"
    }
   ],
   "source": [
    "den.save(chart, \"correlation_matrix.svg\", extra_formats=\"png\")\n",
    "den.display_img(\"correlation_matrix.png\")"
   ]
  },
  {
   "cell_type": "code",
   "execution_count": 6,
   "metadata": {},
   "outputs": [
    {
     "name": "stdout",
     "output_type": "stream",
     "text": [
      "Help on function correlation_matrix in module deneb.correlation_matrix:\n",
      "\n",
      "correlation_matrix(df: pandas.core.frame.DataFrame, metrics: List[str], limits: Union[Tuple[float], List[float], NoneType] = None, font_size: int = 12, sparse: bool = True, white_font: float = 0.5, rotate_outwards: bool = False, legend: bool = False, height: Union[int, NoneType] = None, width: Union[int, NoneType] = None) -> altair.vegalite.v4.api.Chart\n",
      "    Correlation matrix\n",
      "    \n",
      "    Args:\n",
      "        df: Dataframe\n",
      "        metrics: Metrics to correlate (columns of dataframe)\n",
      "        limits: Limits\n",
      "        font_size: Font size for correlations\n",
      "        sparse: Hides extra fields\n",
      "        white_font: Threshold correlation for using white instead of black\n",
      "        rotate_outwards: Rotates labels away from matrix\n",
      "        legend: Whether or not to show legend\n",
      "        height: Height of plot in facet\n",
      "        width: Width of plot in facet\n",
      "    \n",
      "    Returns:\n",
      "        Chart\n",
      "\n"
     ]
    }
   ],
   "source": [
    "help(den.correlation_matrix)"
   ]
  },
  {
   "cell_type": "code",
   "execution_count": 7,
   "metadata": {},
   "outputs": [
    {
     "name": "stdout",
     "output_type": "stream",
     "text": [
      "Help on function set_style in module deneb.themes:\n",
      "\n",
      "set_style(border: bool = False, font_family: Union[str, NoneType] = None, font_size: Union[int, NoneType] = None, font_size_label: Union[int, NoneType] = None, font_size_title: Union[int, NoneType] = None, font_weight: Union[str, NoneType] = 'normal', font_weight_label: Union[str, NoneType] = None, font_weight_title: Union[str, NoneType] = None, google_font: bool = False, grid: bool = False, height: int = 100, width: int = 100, extra: Dict[str, Any] = {})\n",
      "    Set custom style\n",
      "    \n",
      "    Any additional kwargs are merged into the config dict as well\n",
      "    \n",
      "    Args:\n",
      "        font_family: Font family to use\n",
      "        font_size: Font size for all labels and titles\n",
      "        font_size_label: If provided, overrides `font_size` for all labels\n",
      "        font_size_title: If provided, overrides `font_size` for all titles\n",
      "        font_weight: Font weight for all labels and titles\n",
      "        font_weight_label: If provided, overrides `font_weight` for all titles\n",
      "        font_weight_title: If provided, overrides `font_weight` for all labels\n",
      "        google_font: Whether to load font from Google Fonts\n",
      "        grid: Whether to show grid\n",
      "        border: Whether to show borders\n",
      "        height: Height\n",
      "        width: Width\n",
      "        extra: Any extra config\n",
      "    \n",
      "    Returns:\n",
      "        None\n",
      "\n"
     ]
    }
   ],
   "source": [
    "help(den.set_style)"
   ]
  }
 ],
 "metadata": {
  "kernelspec": {
   "display_name": "Python 3",
   "language": "python",
   "name": "python3"
  },
  "language_info": {
   "codemirror_mode": {
    "name": "ipython",
    "version": 3
   },
   "file_extension": ".py",
   "mimetype": "text/x-python",
   "name": "python",
   "nbconvert_exporter": "python",
   "pygments_lexer": "ipython3",
   "version": "3.7.7"
  }
 },
 "nbformat": 4,
 "nbformat_minor": 4
}
