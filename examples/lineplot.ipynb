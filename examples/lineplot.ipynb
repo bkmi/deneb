{
 "cells": [
  {
   "cell_type": "code",
   "execution_count": 27,
   "metadata": {},
   "outputs": [
    {
     "data": {
      "text/html": [
       "\n",
       "<div id=\"altair-viz-22614274daa0463d81905f64b3e91414\"></div>\n",
       "<script type=\"text/javascript\">\n",
       "  (function(spec, embedOpt){\n",
       "    let outputDiv = document.currentScript.previousElementSibling;\n",
       "    if (outputDiv.id !== \"altair-viz-22614274daa0463d81905f64b3e91414\") {\n",
       "      outputDiv = document.getElementById(\"altair-viz-22614274daa0463d81905f64b3e91414\");\n",
       "    }\n",
       "    const paths = {\n",
       "      \"vega\": \"https://cdn.jsdelivr.net/npm//vega@5?noext\",\n",
       "      \"vega-lib\": \"https://cdn.jsdelivr.net/npm//vega-lib?noext\",\n",
       "      \"vega-lite\": \"https://cdn.jsdelivr.net/npm//vega-lite@4.8.1?noext\",\n",
       "      \"vega-embed\": \"https://cdn.jsdelivr.net/npm//vega-embed@6?noext\",\n",
       "    };\n",
       "\n",
       "    function loadScript(lib) {\n",
       "      return new Promise(function(resolve, reject) {\n",
       "        var s = document.createElement('script');\n",
       "        s.src = paths[lib];\n",
       "        s.async = true;\n",
       "        s.onload = () => resolve(paths[lib]);\n",
       "        s.onerror = () => reject(`Error loading script: ${paths[lib]}`);\n",
       "        document.getElementsByTagName(\"head\")[0].appendChild(s);\n",
       "      });\n",
       "    }\n",
       "\n",
       "    function showError(err) {\n",
       "      outputDiv.innerHTML = `<div class=\"error\" style=\"color:red;\">${err}</div>`;\n",
       "      throw err;\n",
       "    }\n",
       "\n",
       "    function displayChart(vegaEmbed) {\n",
       "      vegaEmbed(outputDiv, spec, embedOpt)\n",
       "        .catch(err => showError(`Javascript Error: ${err.message}<br>This usually means there's a typo in your chart specification. See the javascript console for the full traceback.`));\n",
       "    }\n",
       "\n",
       "    if(typeof define === \"function\" && define.amd) {\n",
       "      requirejs.config({paths});\n",
       "      require([\"vega-embed\"], displayChart, err => showError(`Error loading script: ${err.message}`));\n",
       "    } else if (typeof vegaEmbed === \"function\") {\n",
       "      displayChart(vegaEmbed);\n",
       "    } else {\n",
       "      loadScript(\"vega\")\n",
       "        .then(() => loadScript(\"vega-lite\"))\n",
       "        .then(() => loadScript(\"vega-embed\"))\n",
       "        .catch(showError)\n",
       "        .then(() => displayChart(vegaEmbed));\n",
       "    }\n",
       "  })({\"config\": {\"view\": {\"strokeWidth\": 0, \"continuousHeight\": 100, \"discreteHeight\": 100, \"continuousWidth\": 100, \"discreteWidth\": 100}, \"title\": {\"font\": \"Helvetica Neue\"}, \"axis\": {\"labelFont\": \"Helvetica Neue\", \"titleFont\": \"Helvetica Neue\", \"labelFontWeight\": \"normal\", \"titleFontWeight\": \"normal\", \"grid\": false}, \"header\": {\"labelFont\": \"Helvetica Neue\", \"titleFont\": \"Helvetica Neue\", \"labelFontWeight\": \"normal\", \"titleFontWeight\": \"normal\", \"labelOrient\": \"top\", \"titleOrient\": \"bottom\"}, \"legend\": {\"labelFont\": \"Helvetica Neue\", \"titleFont\": \"Helvetica Neue\", \"labelFontWeight\": \"normal\", \"titleFontWeight\": \"normal\"}}, \"data\": {\"name\": \"data-093ece8c35bb2d41094cfb6138ec810b\"}, \"facet\": {\"column\": {\"type\": \"ordinal\", \"field\": \"site\", \"header\": {\"labels\": true}, \"sort\": null, \"title\": \"\"}}, \"spec\": {\"layer\": [{\"mark\": \"line\", \"encoding\": {\"color\": {\"type\": \"nominal\", \"field\": \"year\", \"legend\": null}, \"x\": {\"type\": \"ordinal\", \"field\": \"variety\", \"title\": \"\"}, \"y\": {\"type\": \"quantitative\", \"aggregate\": \"mean\", \"field\": \"yield\", \"scale\": {\"zero\": false}}}}, {\"mark\": {\"type\": \"point\", \"filled\": true}, \"encoding\": {\"color\": {\"type\": \"nominal\", \"field\": \"year\", \"legend\": null}, \"x\": {\"type\": \"ordinal\", \"field\": \"variety\", \"title\": \"\"}, \"y\": {\"type\": \"quantitative\", \"aggregate\": \"mean\", \"field\": \"yield\", \"scale\": {\"zero\": false}}}}], \"height\": 140, \"width\": 140}, \"resolve\": {\"scale\": {\"x\": \"independent\"}}, \"spacing\": 5, \"$schema\": \"https://vega.github.io/schema/vega-lite/v4.8.1.json\", \"datasets\": {\"data-093ece8c35bb2d41094cfb6138ec810b\": [{\"yield\": 27.0, \"variety\": \"Manchuria\", \"year\": 1931, \"site\": \"University Farm\"}, {\"yield\": 48.86667, \"variety\": \"Manchuria\", \"year\": 1931, \"site\": \"Waseca\"}, {\"yield\": 27.43334, \"variety\": \"Manchuria\", \"year\": 1931, \"site\": \"Morris\"}, {\"yield\": 39.93333, \"variety\": \"Manchuria\", \"year\": 1931, \"site\": \"Crookston\"}, {\"yield\": 32.96667, \"variety\": \"Manchuria\", \"year\": 1931, \"site\": \"Grand Rapids\"}, {\"yield\": 28.96667, \"variety\": \"Manchuria\", \"year\": 1931, \"site\": \"Duluth\"}, {\"yield\": 43.06666, \"variety\": \"Glabron\", \"year\": 1931, \"site\": \"University Farm\"}, {\"yield\": 55.2, \"variety\": \"Glabron\", \"year\": 1931, \"site\": \"Waseca\"}, {\"yield\": 28.76667, \"variety\": \"Glabron\", \"year\": 1931, \"site\": \"Morris\"}, {\"yield\": 38.13333, \"variety\": \"Glabron\", \"year\": 1931, \"site\": \"Crookston\"}, {\"yield\": 29.13333, \"variety\": \"Glabron\", \"year\": 1931, \"site\": \"Grand Rapids\"}, {\"yield\": 29.66667, \"variety\": \"Glabron\", \"year\": 1931, \"site\": \"Duluth\"}, {\"yield\": 35.13333, \"variety\": \"Svansota\", \"year\": 1931, \"site\": \"University Farm\"}, {\"yield\": 47.33333, \"variety\": \"Svansota\", \"year\": 1931, \"site\": \"Waseca\"}, {\"yield\": 25.76667, \"variety\": \"Svansota\", \"year\": 1931, \"site\": \"Morris\"}, {\"yield\": 40.46667, \"variety\": \"Svansota\", \"year\": 1931, \"site\": \"Crookston\"}, {\"yield\": 29.66667, \"variety\": \"Svansota\", \"year\": 1931, \"site\": \"Grand Rapids\"}, {\"yield\": 25.7, \"variety\": \"Svansota\", \"year\": 1931, \"site\": \"Duluth\"}, {\"yield\": 39.9, \"variety\": \"Velvet\", \"year\": 1931, \"site\": \"University Farm\"}, {\"yield\": 50.23333, \"variety\": \"Velvet\", \"year\": 1931, \"site\": \"Waseca\"}, {\"yield\": 26.13333, \"variety\": \"Velvet\", \"year\": 1931, \"site\": \"Morris\"}, {\"yield\": 41.33333, \"variety\": \"Velvet\", \"year\": 1931, \"site\": \"Crookston\"}, {\"yield\": 23.03333, \"variety\": \"Velvet\", \"year\": 1931, \"site\": \"Grand Rapids\"}, {\"yield\": 26.3, \"variety\": \"Velvet\", \"year\": 1931, \"site\": \"Duluth\"}, {\"yield\": 36.56666, \"variety\": \"Trebi\", \"year\": 1931, \"site\": \"University Farm\"}, {\"yield\": 63.8333, \"variety\": \"Trebi\", \"year\": 1931, \"site\": \"Waseca\"}, {\"yield\": 43.76667, \"variety\": \"Trebi\", \"year\": 1931, \"site\": \"Morris\"}, {\"yield\": 46.93333, \"variety\": \"Trebi\", \"year\": 1931, \"site\": \"Crookston\"}, {\"yield\": 29.76667, \"variety\": \"Trebi\", \"year\": 1931, \"site\": \"Grand Rapids\"}, {\"yield\": 33.93333, \"variety\": \"Trebi\", \"year\": 1931, \"site\": \"Duluth\"}, {\"yield\": 43.26667, \"variety\": \"No. 457\", \"year\": 1931, \"site\": \"University Farm\"}, {\"yield\": 58.1, \"variety\": \"No. 457\", \"year\": 1931, \"site\": \"Waseca\"}, {\"yield\": 28.7, \"variety\": \"No. 457\", \"year\": 1931, \"site\": \"Morris\"}, {\"yield\": 45.66667, \"variety\": \"No. 457\", \"year\": 1931, \"site\": \"Crookston\"}, {\"yield\": 32.16667, \"variety\": \"No. 457\", \"year\": 1931, \"site\": \"Grand Rapids\"}, {\"yield\": 33.6, \"variety\": \"No. 457\", \"year\": 1931, \"site\": \"Duluth\"}, {\"yield\": 36.6, \"variety\": \"No. 462\", \"year\": 1931, \"site\": \"University Farm\"}, {\"yield\": 65.7667, \"variety\": \"No. 462\", \"year\": 1931, \"site\": \"Waseca\"}, {\"yield\": 30.36667, \"variety\": \"No. 462\", \"year\": 1931, \"site\": \"Morris\"}, {\"yield\": 48.56666, \"variety\": \"No. 462\", \"year\": 1931, \"site\": \"Crookston\"}, {\"yield\": 24.93334, \"variety\": \"No. 462\", \"year\": 1931, \"site\": \"Grand Rapids\"}, {\"yield\": 28.1, \"variety\": \"No. 462\", \"year\": 1931, \"site\": \"Duluth\"}, {\"yield\": 32.76667, \"variety\": \"Peatland\", \"year\": 1931, \"site\": \"University Farm\"}, {\"yield\": 48.56666, \"variety\": \"Peatland\", \"year\": 1931, \"site\": \"Waseca\"}, {\"yield\": 29.86667, \"variety\": \"Peatland\", \"year\": 1931, \"site\": \"Morris\"}, {\"yield\": 41.6, \"variety\": \"Peatland\", \"year\": 1931, \"site\": \"Crookston\"}, {\"yield\": 34.7, \"variety\": \"Peatland\", \"year\": 1931, \"site\": \"Grand Rapids\"}, {\"yield\": 32.0, \"variety\": \"Peatland\", \"year\": 1931, \"site\": \"Duluth\"}, {\"yield\": 24.66667, \"variety\": \"No. 475\", \"year\": 1931, \"site\": \"University Farm\"}, {\"yield\": 46.76667, \"variety\": \"No. 475\", \"year\": 1931, \"site\": \"Waseca\"}, {\"yield\": 22.6, \"variety\": \"No. 475\", \"year\": 1931, \"site\": \"Morris\"}, {\"yield\": 44.1, \"variety\": \"No. 475\", \"year\": 1931, \"site\": \"Crookston\"}, {\"yield\": 19.7, \"variety\": \"No. 475\", \"year\": 1931, \"site\": \"Grand Rapids\"}, {\"yield\": 33.06666, \"variety\": \"No. 475\", \"year\": 1931, \"site\": \"Duluth\"}, {\"yield\": 39.3, \"variety\": \"Wisconsin No. 38\", \"year\": 1931, \"site\": \"University Farm\"}, {\"yield\": 58.8, \"variety\": \"Wisconsin No. 38\", \"year\": 1931, \"site\": \"Waseca\"}, {\"yield\": 29.46667, \"variety\": \"Wisconsin No. 38\", \"year\": 1931, \"site\": \"Morris\"}, {\"yield\": 49.86667, \"variety\": \"Wisconsin No. 38\", \"year\": 1931, \"site\": \"Crookston\"}, {\"yield\": 34.46667, \"variety\": \"Wisconsin No. 38\", \"year\": 1931, \"site\": \"Grand Rapids\"}, {\"yield\": 31.6, \"variety\": \"Wisconsin No. 38\", \"year\": 1931, \"site\": \"Duluth\"}, {\"yield\": 26.9, \"variety\": \"Manchuria\", \"year\": 1932, \"site\": \"University Farm\"}, {\"yield\": 33.46667, \"variety\": \"Manchuria\", \"year\": 1932, \"site\": \"Waseca\"}, {\"yield\": 34.36666, \"variety\": \"Manchuria\", \"year\": 1932, \"site\": \"Morris\"}, {\"yield\": 32.96667, \"variety\": \"Manchuria\", \"year\": 1932, \"site\": \"Crookston\"}, {\"yield\": 22.13333, \"variety\": \"Manchuria\", \"year\": 1932, \"site\": \"Grand Rapids\"}, {\"yield\": 22.56667, \"variety\": \"Manchuria\", \"year\": 1932, \"site\": \"Duluth\"}, {\"yield\": 36.8, \"variety\": \"Glabron\", \"year\": 1932, \"site\": \"University Farm\"}, {\"yield\": 37.73333, \"variety\": \"Glabron\", \"year\": 1932, \"site\": \"Waseca\"}, {\"yield\": 35.13333, \"variety\": \"Glabron\", \"year\": 1932, \"site\": \"Morris\"}, {\"yield\": 26.16667, \"variety\": \"Glabron\", \"year\": 1932, \"site\": \"Crookston\"}, {\"yield\": 14.43333, \"variety\": \"Glabron\", \"year\": 1932, \"site\": \"Grand Rapids\"}, {\"yield\": 25.86667, \"variety\": \"Glabron\", \"year\": 1932, \"site\": \"Duluth\"}, {\"yield\": 27.43334, \"variety\": \"Svansota\", \"year\": 1932, \"site\": \"University Farm\"}, {\"yield\": 38.5, \"variety\": \"Svansota\", \"year\": 1932, \"site\": \"Waseca\"}, {\"yield\": 35.03333, \"variety\": \"Svansota\", \"year\": 1932, \"site\": \"Morris\"}, {\"yield\": 20.63333, \"variety\": \"Svansota\", \"year\": 1932, \"site\": \"Crookston\"}, {\"yield\": 16.63333, \"variety\": \"Svansota\", \"year\": 1932, \"site\": \"Grand Rapids\"}, {\"yield\": 22.23333, \"variety\": \"Svansota\", \"year\": 1932, \"site\": \"Duluth\"}, {\"yield\": 26.8, \"variety\": \"Velvet\", \"year\": 1932, \"site\": \"University Farm\"}, {\"yield\": 37.4, \"variety\": \"Velvet\", \"year\": 1932, \"site\": \"Waseca\"}, {\"yield\": 38.83333, \"variety\": \"Velvet\", \"year\": 1932, \"site\": \"Morris\"}, {\"yield\": 32.06666, \"variety\": \"Velvet\", \"year\": 1932, \"site\": \"Crookston\"}, {\"yield\": 32.23333, \"variety\": \"Velvet\", \"year\": 1932, \"site\": \"Grand Rapids\"}, {\"yield\": 22.46667, \"variety\": \"Velvet\", \"year\": 1932, \"site\": \"Duluth\"}, {\"yield\": 29.06667, \"variety\": \"Trebi\", \"year\": 1932, \"site\": \"University Farm\"}, {\"yield\": 49.2333, \"variety\": \"Trebi\", \"year\": 1932, \"site\": \"Waseca\"}, {\"yield\": 46.63333, \"variety\": \"Trebi\", \"year\": 1932, \"site\": \"Morris\"}, {\"yield\": 41.83333, \"variety\": \"Trebi\", \"year\": 1932, \"site\": \"Crookston\"}, {\"yield\": 20.63333, \"variety\": \"Trebi\", \"year\": 1932, \"site\": \"Grand Rapids\"}, {\"yield\": 30.6, \"variety\": \"Trebi\", \"year\": 1932, \"site\": \"Duluth\"}, {\"yield\": 26.43334, \"variety\": \"No. 457\", \"year\": 1932, \"site\": \"University Farm\"}, {\"yield\": 42.2, \"variety\": \"No. 457\", \"year\": 1932, \"site\": \"Waseca\"}, {\"yield\": 43.53334, \"variety\": \"No. 457\", \"year\": 1932, \"site\": \"Morris\"}, {\"yield\": 34.33333, \"variety\": \"No. 457\", \"year\": 1932, \"site\": \"Crookston\"}, {\"yield\": 19.46667, \"variety\": \"No. 457\", \"year\": 1932, \"site\": \"Grand Rapids\"}, {\"yield\": 22.7, \"variety\": \"No. 457\", \"year\": 1932, \"site\": \"Duluth\"}, {\"yield\": 25.56667, \"variety\": \"No. 462\", \"year\": 1932, \"site\": \"University Farm\"}, {\"yield\": 44.7, \"variety\": \"No. 462\", \"year\": 1932, \"site\": \"Waseca\"}, {\"yield\": 47.0, \"variety\": \"No. 462\", \"year\": 1932, \"site\": \"Morris\"}, {\"yield\": 30.53333, \"variety\": \"No. 462\", \"year\": 1932, \"site\": \"Crookston\"}, {\"yield\": 19.9, \"variety\": \"No. 462\", \"year\": 1932, \"site\": \"Grand Rapids\"}, {\"yield\": 22.5, \"variety\": \"No. 462\", \"year\": 1932, \"site\": \"Duluth\"}, {\"yield\": 28.06667, \"variety\": \"Peatland\", \"year\": 1932, \"site\": \"University Farm\"}, {\"yield\": 36.03333, \"variety\": \"Peatland\", \"year\": 1932, \"site\": \"Waseca\"}, {\"yield\": 43.2, \"variety\": \"Peatland\", \"year\": 1932, \"site\": \"Morris\"}, {\"yield\": 25.23333, \"variety\": \"Peatland\", \"year\": 1932, \"site\": \"Crookston\"}, {\"yield\": 26.76667, \"variety\": \"Peatland\", \"year\": 1932, \"site\": \"Grand Rapids\"}, {\"yield\": 31.36667, \"variety\": \"Peatland\", \"year\": 1932, \"site\": \"Duluth\"}, {\"yield\": 30.0, \"variety\": \"No. 475\", \"year\": 1932, \"site\": \"University Farm\"}, {\"yield\": 41.26667, \"variety\": \"No. 475\", \"year\": 1932, \"site\": \"Waseca\"}, {\"yield\": 44.23333, \"variety\": \"No. 475\", \"year\": 1932, \"site\": \"Morris\"}, {\"yield\": 32.13333, \"variety\": \"No. 475\", \"year\": 1932, \"site\": \"Crookston\"}, {\"yield\": 15.23333, \"variety\": \"No. 475\", \"year\": 1932, \"site\": \"Grand Rapids\"}, {\"yield\": 27.36667, \"variety\": \"No. 475\", \"year\": 1932, \"site\": \"Duluth\"}, {\"yield\": 38.0, \"variety\": \"Wisconsin No. 38\", \"year\": 1932, \"site\": \"University Farm\"}, {\"yield\": 58.16667, \"variety\": \"Wisconsin No. 38\", \"year\": 1932, \"site\": \"Waseca\"}, {\"yield\": 47.16667, \"variety\": \"Wisconsin No. 38\", \"year\": 1932, \"site\": \"Morris\"}, {\"yield\": 35.9, \"variety\": \"Wisconsin No. 38\", \"year\": 1932, \"site\": \"Crookston\"}, {\"yield\": 20.66667, \"variety\": \"Wisconsin No. 38\", \"year\": 1932, \"site\": \"Grand Rapids\"}, {\"yield\": 29.33333, \"variety\": \"Wisconsin No. 38\", \"year\": 1932, \"site\": \"Duluth\"}]}}, {\"mode\": \"vega-lite\"});\n",
       "</script>"
      ],
      "text/plain": [
       "alt.FacetChart(...)"
      ]
     },
     "execution_count": 27,
     "metadata": {},
     "output_type": "execute_result"
    }
   ],
   "source": [
    "import altair as alt\n",
    "import deneb as den\n",
    "from vega_datasets import data\n",
    "\n",
    "df = data.barley()\n",
    "\n",
    "den.set_style(font_family=\"Helvetica Neue\")\n",
    "\n",
    "chart = den.lineplot(\n",
    "    df, \n",
    "    x=\"variety:O\", \n",
    "    y=\"yield:Q\", \n",
    "    column=\"site:O\", \n",
    "    color=alt.Color(\"year:N\", legend=None),\n",
    "    errorbars=False,\n",
    "    width=140, \n",
    "    height=140)\n",
    "chart"
   ]
  },
  {
   "cell_type": "code",
   "execution_count": 28,
   "metadata": {},
   "outputs": [
    {
     "data": {
      "text/html": [
       "<img src=\"lineplot.png?now=1601399549.7783968\" / >"
      ],
      "text/plain": [
       "<IPython.core.display.HTML object>"
      ]
     },
     "metadata": {},
     "output_type": "display_data"
    }
   ],
   "source": [
    "den.save(chart, \"lineplot.svg\", extra_formats=\"png\")\n",
    "den.display_img(\"lineplot.png\")"
   ]
  },
  {
   "cell_type": "code",
   "execution_count": 29,
   "metadata": {},
   "outputs": [
    {
     "name": "stdout",
     "output_type": "stream",
     "text": [
      "Help on function lineplot in module deneb.lineplot:\n",
      "\n",
      "lineplot(df, x: str, y: str, label_orient: str = 'top', title_orient: str = 'bottom', column: Union[str, NoneType] = None, column_title: str = '', column_sort: Union[List[str], NoneType] = None, row: Union[str, NoneType] = None, row_title: str = '', row_sort: Union[List[str], NoneType] = None, aggregate: Union[str, NoneType] = 'mean', points: bool = True, lines: bool = True, errorbars: bool = True, error_extent: str = 'stdev', limits: Union[List[float], NoneType] = None, independent_x: bool = True, independent_y: bool = False, spacing: int = 5, color: Union[str, altair.vegalite.v4.schema.channels.Color, NoneType] = None, height: Union[int, NoneType] = None, width: Union[int, NoneType] = None) -> altair.vegalite.v4.api.Chart\n",
      "    Produces lineplot with optional errorbars and facets\n",
      "    \n",
      "    Args:\n",
      "        df: Dataframe\n",
      "        x: Shorthand for x\n",
      "        y: Shorthand for y\n",
      "        label_orient: Orientation of column labels\n",
      "        title_orient: Orientation of column title\n",
      "        column: Shorthand for columns (optional) which are faceted\n",
      "        column_title: Title text for columns displayed \n",
      "        column_sort: Optional sorting for columns\n",
      "        row: Shorthand for rows (optional) which are faceted\n",
      "        row_title: Title text for rows displayed \n",
      "        row_sort: Optional sorting for rows\n",
      "        aggregate: Aggregation function for y values\n",
      "        points: Whether to show points\n",
      "        lines: Whether to show lines\n",
      "        errorbars: Whether to show errorbars\n",
      "        error_extent: Extent of errorbars, e.g., stdev or stderr\n",
      "        limits: Limits for y-axis\n",
      "        independent_x: Whether x-axes are independent\n",
      "        independent_y: Whether y-axes are independent\n",
      "        spacing: Spacing between facets\n",
      "        color: Colorscale\n",
      "        height: Height of plot in facet\n",
      "        width: Width of plot in facet\n",
      "    \n",
      "    Returns:\n",
      "        Chart\n",
      "\n"
     ]
    }
   ],
   "source": [
    "help(den.lineplot)"
   ]
  },
  {
   "cell_type": "code",
   "execution_count": 30,
   "metadata": {},
   "outputs": [
    {
     "name": "stdout",
     "output_type": "stream",
     "text": [
      "Help on function set_style in module deneb.themes:\n",
      "\n",
      "set_style(border: bool = False, font_family: Union[str, NoneType] = None, font_size: Union[int, NoneType] = None, font_size_label: Union[int, NoneType] = None, font_size_title: Union[int, NoneType] = None, font_weight: Union[str, NoneType] = 'normal', font_weight_label: Union[str, NoneType] = None, font_weight_title: Union[str, NoneType] = None, google_font: bool = False, grid: bool = False, height: int = 100, width: int = 100, extra: Dict[str, Any] = {})\n",
      "    Set custom style\n",
      "    \n",
      "    Any additional kwargs are merged into the config dict as well\n",
      "    \n",
      "    Args:\n",
      "        font_family: Font family to use\n",
      "        font_size: Font size for all labels and titles\n",
      "        font_size_label: If provided, overrides `font_size` for all labels\n",
      "        font_size_title: If provided, overrides `font_size` for all titles\n",
      "        font_weight: Font weight for all labels and titles\n",
      "        font_weight_label: If provided, overrides `font_weight` for all titles\n",
      "        font_weight_title: If provided, overrides `font_weight` for all labels\n",
      "        google_font: Whether to load font from Google Fonts\n",
      "        grid: Whether to show grid\n",
      "        border: Whether to show borders\n",
      "        height: Height\n",
      "        width: Width\n",
      "        extra: Any extra config\n",
      "    \n",
      "    Returns:\n",
      "        None\n",
      "\n"
     ]
    }
   ],
   "source": [
    "help(den.set_style)"
   ]
  }
 ],
 "metadata": {
  "kernelspec": {
   "display_name": "Python 3",
   "language": "python",
   "name": "python3"
  },
  "language_info": {
   "codemirror_mode": {
    "name": "ipython",
    "version": 3
   },
   "file_extension": ".py",
   "mimetype": "text/x-python",
   "name": "python",
   "nbconvert_exporter": "python",
   "pygments_lexer": "ipython3",
   "version": "3.7.7"
  }
 },
 "nbformat": 4,
 "nbformat_minor": 4
}
